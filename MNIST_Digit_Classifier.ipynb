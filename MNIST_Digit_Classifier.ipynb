{
  "nbformat": 4,
  "nbformat_minor": 0,
  "metadata": {
    "colab": {
      "name": "MNIST Digit Classifier ",
      "version": "0.3.2",
      "provenance": []
    },
    "kernelspec": {
      "name": "python3",
      "display_name": "Python 3"
    },
    "accelerator": "GPU"
  },
  "cells": [
    {
      "cell_type": "code",
      "metadata": {
        "id": "5jvr2pi-UqW3",
        "colab_type": "code",
        "colab": {}
      },
      "source": [
        "#Import the required libraries from PyTorch(Deep Learning Framework), and pyplot for aided visualization \n",
        "\n",
        "import torch\n",
        "import torch.nn as nn\n",
        "import torch.nn.functional as F\n",
        "import torch.cuda as cuda\n",
        "import torchvision\n",
        "import matplotlib.pyplot as plt\n",
        "import numpy as np\n",
        "from PIL import Image\n",
        "from torchvision import transforms\n",
        "from torchvision import datasets\n",
        "from torch.autograd import Variable\n"
      ],
      "execution_count": 0,
      "outputs": []
    },
    {
      "cell_type": "code",
      "metadata": {
        "id": "1CdqMHUIVP2Z",
        "colab_type": "code",
        "colab": {}
      },
      "source": [
        "#Define some basic transformer operations to properly prepare the images\n",
        "mean = 0.1307 \n",
        "std = 0.3081\n",
        "transform = transforms.Compose([transforms.ToTensor(), transforms.Normalize((mean,), (std,))])"
      ],
      "execution_count": 0,
      "outputs": []
    },
    {
      "cell_type": "code",
      "metadata": {
        "id": "4FgylXd9Xm85",
        "colab_type": "code",
        "outputId": "736cc05c-97fb-4810-ec8a-259c0ea60b6b",
        "colab": {
          "base_uri": "https://localhost:8080/",
          "height": 252
        }
      },
      "source": [
        "#Load the MNIST dataset from torchvision\n",
        "\n",
        "train_set = datasets.MNIST('/data', train=True, transform=transform, download=True)\n",
        "test_set = datasets.MNIST('/data', train=False, transform=transform, download=True )"
      ],
      "execution_count": 0,
      "outputs": [
        {
          "output_type": "stream",
          "text": [
            "\r0it [00:00, ?it/s]"
          ],
          "name": "stderr"
        },
        {
          "output_type": "stream",
          "text": [
            "Downloading http://yann.lecun.com/exdb/mnist/train-images-idx3-ubyte.gz to /data/MNIST/raw/train-images-idx3-ubyte.gz\n"
          ],
          "name": "stdout"
        },
        {
          "output_type": "stream",
          "text": [
            "9920512it [00:01, 8379089.10it/s]                            \n"
          ],
          "name": "stderr"
        },
        {
          "output_type": "stream",
          "text": [
            "Extracting /data/MNIST/raw/train-images-idx3-ubyte.gz\n"
          ],
          "name": "stdout"
        },
        {
          "output_type": "stream",
          "text": [
            "\r0it [00:00, ?it/s]"
          ],
          "name": "stderr"
        },
        {
          "output_type": "stream",
          "text": [
            "Downloading http://yann.lecun.com/exdb/mnist/train-labels-idx1-ubyte.gz to /data/MNIST/raw/train-labels-idx1-ubyte.gz\n"
          ],
          "name": "stdout"
        },
        {
          "output_type": "stream",
          "text": [
            "32768it [00:00, 85483.31it/s]            \n",
            "0it [00:00, ?it/s]"
          ],
          "name": "stderr"
        },
        {
          "output_type": "stream",
          "text": [
            "Extracting /data/MNIST/raw/train-labels-idx1-ubyte.gz\n",
            "Downloading http://yann.lecun.com/exdb/mnist/t10k-images-idx3-ubyte.gz to /data/MNIST/raw/t10k-images-idx3-ubyte.gz\n"
          ],
          "name": "stdout"
        },
        {
          "output_type": "stream",
          "text": [
            "1654784it [00:01, 1077367.27it/s]                            \n",
            "0it [00:00, ?it/s]"
          ],
          "name": "stderr"
        },
        {
          "output_type": "stream",
          "text": [
            "Extracting /data/MNIST/raw/t10k-images-idx3-ubyte.gz\n",
            "Downloading http://yann.lecun.com/exdb/mnist/t10k-labels-idx1-ubyte.gz to /data/MNIST/raw/t10k-labels-idx1-ubyte.gz\n"
          ],
          "name": "stdout"
        },
        {
          "output_type": "stream",
          "text": [
            "8192it [00:00, 26367.27it/s]            "
          ],
          "name": "stderr"
        },
        {
          "output_type": "stream",
          "text": [
            "Extracting /data/MNIST/raw/t10k-labels-idx1-ubyte.gz\n",
            "Processing...\n",
            "Done!\n"
          ],
          "name": "stdout"
        },
        {
          "output_type": "stream",
          "text": [
            "\n"
          ],
          "name": "stderr"
        }
      ]
    },
    {
      "cell_type": "code",
      "metadata": {
        "id": "CT4NvKNwYJ0E",
        "colab_type": "code",
        "colab": {}
      },
      "source": [
        "#Feed the dataset into the dataloaders\n",
        "\n",
        "batch_size=1200\n",
        "train_loader = torch.utils.data.DataLoader(train_set, batch_size=batch_size,shuffle=True)\n",
        "test_loader = torch.utils.data.DataLoader(test_set, batch_size=batch_size, shuffle=True)"
      ],
      "execution_count": 0,
      "outputs": []
    },
    {
      "cell_type": "code",
      "metadata": {
        "id": "7sueCGX3luef",
        "colab_type": "code",
        "colab": {}
      },
      "source": [
        "#classes for which we want to classify our images into\n",
        "classes = ('one', 'two', 'three', 'four', 'five', 'six', 'seven', 'eight', 'nine',)"
      ],
      "execution_count": 0,
      "outputs": []
    },
    {
      "cell_type": "code",
      "metadata": {
        "id": "k_EBcbA5mUSa",
        "colab_type": "code",
        "colab": {}
      },
      "source": [
        "#function to show an image in order to get a better understanding of the data\n",
        "\n",
        "def imshow(img):\n",
        "  img = img * std + mean #unnormalize the data\n",
        "  npimg = img.numpy()\n",
        "  plt.imshow(npimg.reshape(28, 28), cmap='gray')\n",
        "  plt.show()  \n",
        "\n",
        "  "
      ],
      "execution_count": 0,
      "outputs": []
    },
    {
      "cell_type": "code",
      "metadata": {
        "id": "v3ccUEnTnyUM",
        "colab_type": "code",
        "outputId": "f6f6d1b3-6f47-48ea-fe27-cd226498ae9d",
        "colab": {
          "base_uri": "https://localhost:8080/",
          "height": 269
        }
      },
      "source": [
        "#function call to display image, change the first index to see the other images in dataset. There are 60,000 images in this dataset\n",
        "image = train_set[0][0]\n",
        "imshow(image)"
      ],
      "execution_count": 0,
      "outputs": [
        {
          "output_type": "display_data",
          "data": {
            "image/png": "[encoded data removed]",
            "text/plain": [
              "<Figure size 432x288 with 1 Axes>"
            ]
          },
          "metadata": {
            "tags": []
          }
        }
      ]
    },
    {
      "cell_type": "markdown",
      "metadata": {
        "id": "Z4AEJj2JODq_",
        "colab_type": "text"
      },
      "source": [
        "# Size of Output Activation Map Fromula \n",
        "\n",
        "![alt text](https://miro.medium.com/max/413/0*_r70kZaBlXSyZzz5.)\n",
        "\n",
        "**function to make sure you are properly layering neural network**\n"
      ]
    },
    {
      "cell_type": "code",
      "metadata": {
        "id": "0Z02GDbodcK3",
        "colab_type": "code",
        "colab": {}
      },
      "source": [
        "#Define the Convoluted Neural Network\n",
        "\n",
        "#Note: by default padding = 0, stride = 1\n",
        "\n",
        "class Net(nn.Module):\n",
        "  \n",
        "  def __init__(self):\n",
        "    super().__init__()\n",
        "\n",
        "    #Convulation Layer #1                                             # 28 x 28 x 1 (input)\n",
        "    self.conv1 = nn.Conv2d(1, 20, kernel_size=5)                      # 24 x 24 x 20 (first convolution)\n",
        "    self.rel1 = nn.ReLU()                                             # activation function\n",
        "\n",
        "    #Convulation Layer #2\n",
        "    self.conv2 = nn.Conv2d(20, 40, kernel_size=5)                     # 24 x 24 x 30 (input)\n",
        "    self.conv2_drop = nn.Dropout(p=0.5)                               # 20 x 20 x 40 (second convultion)\n",
        "    self.pool = nn.MaxPool2d(2)                                       # 10 x 10 x 40 (pooling)\n",
        "    self.rel2 = nn.ReLU()                                             # activation function\n",
        "\n",
        "    #Fully Connecting Layers\n",
        "    self.lin1 = nn.Linear(4000, 500)                                  # 10 * 10 * 40 = 4000 (input)\n",
        "    self.lin2 = nn.Linear(500, 10)                                    # 500 ---- > 10 (our handwritten digits 0-9)\n",
        "\n",
        "  def forward(self, x):\n",
        "\n",
        "    #Convluation Layer #1\n",
        "    x = self.conv1(x)\n",
        "    x = self.rel1(x)\n",
        "      \n",
        "    #Convulation Layer #2\n",
        "    x = self.conv2(x)\n",
        "    x = self.conv2_drop(x)      \n",
        "    x = self.pool(x)\n",
        "    x = self.rel2(x)\n",
        "\n",
        "    #switch from activation map to vector so that we can pass into linear layers\n",
        "    x = x.view(-1, 4000)\n",
        "\n",
        "    #Fully Connecting Layers\n",
        "    x = self.lin1(x)\n",
        "    x = F.relu(x)\n",
        "    x = F.dropout(x, training=True)\n",
        "\n",
        "    x = self.lin2(x)\n",
        "\n",
        "    return x\n",
        "\n",
        "\n",
        "  "
      ],
      "execution_count": 0,
      "outputs": []
    },
    {
      "cell_type": "code",
      "metadata": {
        "id": "WBv6pghwXCih",
        "colab_type": "code",
        "colab": {}
      },
      "source": [
        "device = torch.device(\"cuda\" if torch.cuda.is_available() else \"cpu\")\n",
        "\n",
        "#create model object\n",
        "model = Net()\n",
        "model = model.to(device)\n",
        "\n",
        "#loss function\n",
        "criterion = nn.CrossEntropyLoss()\n",
        "\n",
        "#create optimizer object\n",
        "learning_rate = 0.01\n",
        "optimizer = torch.optim.SGD(model.parameters(), lr=learning_rate, momentum=0.9)"
      ],
      "execution_count": 0,
      "outputs": []
    },
    {
      "cell_type": "code",
      "metadata": {
        "id": "gWlCVPdT_YOO",
        "colab_type": "code",
        "colab": {}
      },
      "source": [
        "#Training Function\n",
        "\n",
        "def train(num_epoch):\n",
        "  model.train()\n",
        "\n",
        "  for epoch in range(num_epoch):\n",
        "\n",
        "    running_loss = 0.0\n",
        "\n",
        "    for i, data in enumerate(train_loader):\n",
        "      \n",
        "      #get the inputs and move tensors to GPU\n",
        "      images, digits = data\n",
        "      images = images.to(device)\n",
        "      digits = digits.to(device)\n",
        "\n",
        "      #zero the parameter gradients\n",
        "      optimizer.zero_grad()\n",
        "      \n",
        "      #forward pass + backpropagation + optimize\n",
        "      outputs = model(images)\n",
        "      loss = criterion(outputs, digits)\n",
        "      loss.backward()\n",
        "      optimizer.step()\n",
        "\n",
        "      #print statistics\n",
        "      running_loss += loss\n",
        "\n",
        "      if i % 10 == 9:\n",
        "        print(f'[Epoch: {epoch+1}, {i+1} / {len(train_loader)}] loss: {running_loss/2000}')\n",
        "\n",
        "        running_loss = 0.0\n",
        "  \n",
        "  print(\"Finished Training\")\n",
        "\n",
        "\n",
        "    "
      ],
      "execution_count": 0,
      "outputs": []
    },
    {
      "cell_type": "code",
      "metadata": {
        "id": "sepRtvupeZoM",
        "colab_type": "code",
        "outputId": "7fbbf6fb-9e5e-4de5-82a8-49b38623a20e",
        "colab": {
          "base_uri": "https://localhost:8080/",
          "height": 874
        }
      },
      "source": [
        "#train the model through however many epochs. In this case, we use 10 epochs and observe the loss\n",
        "train(10)"
      ],
      "execution_count": 0,
      "outputs": [
        {
          "output_type": "stream",
          "text": [
            "[Epoch: 1, 10 / 50] loss: 0.01044540572911501\n",
            "[Epoch: 1, 20 / 50] loss: 0.0045465524308383465\n",
            "[Epoch: 1, 30 / 50] loss: 0.0026129460893571377\n",
            "[Epoch: 1, 40 / 50] loss: 0.002040607389062643\n",
            "[Epoch: 1, 50 / 50] loss: 0.0016026862431317568\n",
            "[Epoch: 2, 10 / 50] loss: 0.0013502842048183084\n",
            "[Epoch: 2, 20 / 50] loss: 0.0012623484944924712\n",
            "[Epoch: 2, 30 / 50] loss: 0.0011543974978849292\n",
            "[Epoch: 2, 40 / 50] loss: 0.0011482633417472243\n",
            "[Epoch: 2, 50 / 50] loss: 0.0009696446359157562\n",
            "[Epoch: 3, 10 / 50] loss: 0.0009332102490589023\n",
            "[Epoch: 3, 20 / 50] loss: 0.0008242821204476058\n",
            "[Epoch: 3, 30 / 50] loss: 0.0007756857085041702\n",
            "[Epoch: 3, 40 / 50] loss: 0.0007823125924915075\n",
            "[Epoch: 3, 50 / 50] loss: 0.0007685055024921894\n",
            "[Epoch: 4, 10 / 50] loss: 0.0006791244959458709\n",
            "[Epoch: 4, 20 / 50] loss: 0.0006832994986325502\n",
            "[Epoch: 4, 30 / 50] loss: 0.00067442178260535\n",
            "[Epoch: 4, 40 / 50] loss: 0.0005562218721024692\n",
            "[Epoch: 4, 50 / 50] loss: 0.0005940626724623144\n",
            "[Epoch: 5, 10 / 50] loss: 0.0005481321131810546\n",
            "[Epoch: 5, 20 / 50] loss: 0.0005457325023598969\n",
            "[Epoch: 5, 30 / 50] loss: 0.0005063904100097716\n",
            "[Epoch: 5, 40 / 50] loss: 0.0005049261380918324\n",
            "[Epoch: 5, 50 / 50] loss: 0.0005442624678835273\n",
            "[Epoch: 6, 10 / 50] loss: 0.0004807944060303271\n",
            "[Epoch: 6, 20 / 50] loss: 0.00046490266686305404\n",
            "[Epoch: 6, 30 / 50] loss: 0.00048557278933003545\n",
            "[Epoch: 6, 40 / 50] loss: 0.0004864379297941923\n",
            "[Epoch: 6, 50 / 50] loss: 0.0004297411360312253\n",
            "[Epoch: 7, 10 / 50] loss: 0.00043095427099615335\n",
            "[Epoch: 7, 20 / 50] loss: 0.0004293261736165732\n",
            "[Epoch: 7, 30 / 50] loss: 0.0003897497954312712\n",
            "[Epoch: 7, 40 / 50] loss: 0.0004108275461476296\n",
            "[Epoch: 7, 50 / 50] loss: 0.0004108487337362021\n",
            "[Epoch: 8, 10 / 50] loss: 0.0004267060721758753\n",
            "[Epoch: 8, 20 / 50] loss: 0.000356805365299806\n",
            "[Epoch: 8, 30 / 50] loss: 0.0003907323407474905\n",
            "[Epoch: 8, 40 / 50] loss: 0.00039176340214908123\n",
            "[Epoch: 8, 50 / 50] loss: 0.0003580916963983327\n",
            "[Epoch: 9, 10 / 50] loss: 0.0003411010548006743\n",
            "[Epoch: 9, 20 / 50] loss: 0.000331646268023178\n",
            "[Epoch: 9, 30 / 50] loss: 0.0003380152629688382\n",
            "[Epoch: 9, 40 / 50] loss: 0.0003708487784024328\n",
            "[Epoch: 9, 50 / 50] loss: 0.0003555544826667756\n",
            "[Epoch: 10, 10 / 50] loss: 0.00034554224112071097\n",
            "[Epoch: 10, 20 / 50] loss: 0.00029845963581465185\n",
            "[Epoch: 10, 30 / 50] loss: 0.0002976667892653495\n",
            "[Epoch: 10, 40 / 50] loss: 0.00034598330967128277\n",
            "[Epoch: 10, 50 / 50] loss: 0.0003087139630224556\n",
            "Finished Training\n"
          ],
          "name": "stdout"
        }
      ]
    },
    {
      "cell_type": "code",
      "metadata": {
        "id": "deosJjfKpBqV",
        "colab_type": "code",
        "outputId": "5e75be56-edac-4061-e581-15d83d2187ff",
        "colab": {
          "base_uri": "https://localhost:8080/",
          "height": 286
        }
      },
      "source": [
        "#check the model predictions of a random images after the model has been trained \n",
        "\n",
        "dataiter = iter(test_loader)\n",
        "model = model.eval()\n",
        "\n",
        "images, digits = dataiter.next()\n",
        "imshow(images[0])\n",
        "images = images.to(device)\n",
        "output = model(images)\n",
        "_, predicted = torch.max(output, 1)\n",
        "\n",
        "print('Predicted:' , predicted[0])\n",
        "\n"
      ],
      "execution_count": 0,
      "outputs": [
        {
          "output_type": "display_data",
          "data": {
            "image/png": "[encoded data removed]",
            "text/plain": [
              "<Figure size 432x288 with 1 Axes>"
            ]
          },
          "metadata": {
            "tags": []
          }
        },
        {
          "output_type": "stream",
          "text": [
            "Predicted: tensor(2, device='cuda:0')\n"
          ],
          "name": "stdout"
        }
      ]
    },
    {
      "cell_type": "code",
      "metadata": {
        "id": "Zq0bqlccipA0",
        "colab_type": "code",
        "colab": {}
      },
      "source": [
        "#function logic to run test loop with the test data\n",
        "def test():\n",
        "  model.eval()\n",
        "  \n",
        "  correct = 0\n",
        "  total = 0\n",
        "  \n",
        "  with torch.no_grad():\n",
        "    for data in test_loader:\n",
        "      images, digits = data\n",
        "      images = images.to(device)\n",
        "      digits = digits.to(device)\n",
        "      outputs = model(images)\n",
        "\n",
        "      _, predicted = torch.max(outputs.data, 1)\n",
        "      total += digits.size(0)\n",
        "      correct += (predicted == digits).sum().item()\n",
        "\n",
        "  print(f\"Accuracy of the model is {100 * correct / total}\")\n",
        "\n"
      ],
      "execution_count": 0,
      "outputs": []
    },
    {
      "cell_type": "code",
      "metadata": {
        "id": "xiVxB6mgkP1S",
        "colab_type": "code",
        "outputId": "481635a3-a44d-4953-cf2e-51eaedf2e528",
        "colab": {
          "base_uri": "https://localhost:8080/",
          "height": 34
        }
      },
      "source": [
        "#run function to see accuracy of the model on the unknown test data, be sure to train the model before!\n",
        "\n",
        "test()"
      ],
      "execution_count": 0,
      "outputs": [
        {
          "output_type": "stream",
          "text": [
            "Accuracy of the model is 98.28\n"
          ],
          "name": "stdout"
        }
      ]
    },
    {
      "cell_type": "code",
      "metadata": {
        "id": "PCR51FbdmdDW",
        "colab_type": "code",
        "colab": {}
      },
      "source": [
        "#If you want to save the model, simply replace the PATH variable with where you want to download it\n",
        "\n",
        "#PATH = \"\"\n",
        "\n",
        "#torch.save(model, PATH)"
      ],
      "execution_count": 0,
      "outputs": []
    }
  ]
}